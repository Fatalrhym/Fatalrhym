{
  "nbformat": 4,
  "nbformat_minor": 0,
  "metadata": {
    "colab": {
      "name": "Untitled0.ipynb",
      "provenance": [],
      "collapsed_sections": [],
      "authorship_tag": "ABX9TyN2aZ3LstejoQfOGJPlciM1",
      "include_colab_link": true
    },
    "kernelspec": {
      "name": "python3",
      "display_name": "Python 3"
    },
    "language_info": {
      "name": "python"
    }
  },
  "cells": [
    {
      "cell_type": "markdown",
      "metadata": {
        "id": "view-in-github",
        "colab_type": "text"
      },
      "source": [
        "<a href=\"https://colab.research.google.com/github/Fatalrhym/Fatalrhym/blob/main/Untitled0.ipynb\" target=\"_parent\"><img src=\"https://colab.research.google.com/assets/colab-badge.svg\" alt=\"Open In Colab\"/></a>"
      ]
    },
    {
      "cell_type": "code",
      "metadata": {
        "colab": {
          "base_uri": "https://localhost:8080/"
        },
        "id": "ZTKhkfHWUtV9",
        "outputId": "8a008b76-bbf7-4fbf-e2a2-3f1498101528"
      },
      "source": [
        "print(20/2)"
      ],
      "execution_count": null,
      "outputs": [
        {
          "output_type": "stream",
          "name": "stdout",
          "text": [
            "10.0\n"
          ]
        }
      ]
    },
    {
      "cell_type": "code",
      "metadata": {
        "colab": {
          "base_uri": "https://localhost:8080/"
        },
        "id": "at9J9nbtVEJd",
        "outputId": "a2cd2872-45ec-4610-db75-4db53a310bfe"
      },
      "source": [
        "print(7//2)\n"
      ],
      "execution_count": null,
      "outputs": [
        {
          "output_type": "stream",
          "name": "stdout",
          "text": [
            "3\n"
          ]
        }
      ]
    },
    {
      "cell_type": "code",
      "metadata": {
        "colab": {
          "base_uri": "https://localhost:8080/"
        },
        "id": "JR0cR3FwVff-",
        "outputId": "60f7863f-8b96-46a1-906e-233947e72103"
      },
      "source": [
        "print(3**2)"
      ],
      "execution_count": null,
      "outputs": [
        {
          "output_type": "stream",
          "name": "stdout",
          "text": [
            "9\n"
          ]
        }
      ]
    },
    {
      "cell_type": "code",
      "metadata": {
        "colab": {
          "base_uri": "https://localhost:8080/"
        },
        "id": "HYbaBCkjVz57",
        "outputId": "e1f2b9cd-8c23-4c67-aa48-b732b7431440"
      },
      "source": [
        "print(3**0.5)"
      ],
      "execution_count": null,
      "outputs": [
        {
          "output_type": "stream",
          "name": "stdout",
          "text": [
            "1.7320508075688772\n"
          ]
        }
      ]
    },
    {
      "cell_type": "code",
      "metadata": {
        "colab": {
          "base_uri": "https://localhost:8080/"
        },
        "id": "CKJCX6raV48p",
        "outputId": "81228b04-6fbd-44a1-f4a4-2e2150f3c0e7"
      },
      "source": [
        "print(27**(1/3))"
      ],
      "execution_count": null,
      "outputs": [
        {
          "output_type": "stream",
          "name": "stdout",
          "text": [
            "3.0\n"
          ]
        }
      ]
    },
    {
      "cell_type": "code",
      "metadata": {
        "id": "JVuO5gS_c5lL"
      },
      "source": [
        ""
      ],
      "execution_count": null,
      "outputs": []
    },
    {
      "cell_type": "code",
      "metadata": {
        "colab": {
          "base_uri": "https://localhost:8080/"
        },
        "id": "-A78WmsFavXz",
        "outputId": "ba04c52e-254d-4dc3-dbcb-73d26e498303"
      },
      "source": [
        "print(\"hayri\", end = \"\\n\")\n",
        "print(b)\n",
        "print(\"fati\")"
      ],
      "execution_count": null,
      "outputs": [
        {
          "output_type": "stream",
          "name": "stdout",
          "text": [
            "hayri\n",
            "\n",
            "fati\n"
          ]
        }
      ]
    },
    {
      "cell_type": "code",
      "metadata": {
        "colab": {
          "base_uri": "https://localhost:8080/"
        },
        "id": "Y2545hOic6tr",
        "outputId": "989d28ce-9a19-4b16-b76f-2d2023d952c6"
      },
      "source": [
        "mycoin = 1000\n",
        "profit = 0.07\n",
        "time = 7\n",
        "print(mycoin*(1+profit)**time)"
      ],
      "execution_count": null,
      "outputs": [
        {
          "output_type": "stream",
          "name": "stdout",
          "text": [
            "1605.7814764784307\n"
          ]
        }
      ]
    },
    {
      "cell_type": "code",
      "metadata": {
        "colab": {
          "base_uri": "https://localhost:8080/"
        },
        "id": "T5tcVY1SerFj",
        "outputId": "4b1bfc5d-5430-4bd2-899c-87cf64160ac1"
      },
      "source": [
        "print(\"hayri\", \"emre\", \"fati\", \"metin\", sep=\" @ \")"
      ],
      "execution_count": null,
      "outputs": [
        {
          "output_type": "stream",
          "name": "stdout",
          "text": [
            "hayri @ emre @ fati @ metin\n"
          ]
        }
      ]
    },
    {
      "cell_type": "code",
      "metadata": {
        "colab": {
          "base_uri": "https://localhost:8080/"
        },
        "id": "lgdolNYZfoFG",
        "outputId": "0fa33650-7d81-4dec-dd61-fc36da289b0f"
      },
      "source": [
        "x = 0\n",
        "x += 1\n",
        "x = x+1\n",
        "x = x+2\n",
        "x = x-4\n",
        "print(x)"
      ],
      "execution_count": null,
      "outputs": [
        {
          "output_type": "stream",
          "name": "stdout",
          "text": [
            "0\n"
          ]
        }
      ]
    },
    {
      "cell_type": "code",
      "metadata": {
        "colab": {
          "base_uri": "https://localhost:8080/"
        },
        "id": "U1xkN-uZiIm3",
        "outputId": "d129010a-1e1c-4d2c-c2b5-8de2f9edeb25"
      },
      "source": [
        "print(type('hello'), type(3.14), type(74), sep='\\n')"
      ],
      "execution_count": null,
      "outputs": [
        {
          "output_type": "stream",
          "name": "stdout",
          "text": [
            "<class 'str'>\n",
            "<class 'float'>\n",
            "<class 'int'>\n"
          ]
        }
      ]
    },
    {
      "cell_type": "code",
      "metadata": {
        "colab": {
          "base_uri": "https://localhost:8080/"
        },
        "id": "-KGW7-bBjH5V",
        "outputId": "87e7a512-33fb-4b60-8afc-78e7c8cab7cd"
      },
      "source": [
        "print('C:\\\\\\\\november\\\\number_expenditure.txt')"
      ],
      "execution_count": null,
      "outputs": [
        {
          "output_type": "stream",
          "name": "stdout",
          "text": [
            "C:\\\\november\\number_expenditure.txt\n"
          ]
        }
      ]
    },
    {
      "cell_type": "code",
      "metadata": {
        "colab": {
          "base_uri": "https://localhost:8080/"
        },
        "id": "9HQtoZsekzF6",
        "outputId": "40b0d551-0a1c-4e79-9255-bdc0128a5ce9"
      },
      "source": [
        "print('it\\'s funny to lern python funny to lern pythonfunny to lern pythonfunny to lern pythonfunny to lern pythonfunny to lern pythonfunny to lern pythonfunny to lern pythonfunny to lern pythonfunny to lern python')"
      ],
      "execution_count": null,
      "outputs": [
        {
          "output_type": "stream",
          "name": "stdout",
          "text": [
            "it's funny to lern python funny to lern pythonfunny to lern pythonfunny to lern pythonfunny to lern pythonfunny to lern pythonfunny to lern pythonfunny to lern pythonfunny to lern pythonfunny to lern python\n"
          ]
        }
      ]
    },
    {
      "cell_type": "code",
      "metadata": {
        "colab": {
          "base_uri": "https://localhost:8080/"
        },
        "id": "dteXUMQLp8GG",
        "outputId": "a6ecf671-4b2e-47a2-e740-988526791fa9"
      },
      "source": [
        "11%2"
      ],
      "execution_count": null,
      "outputs": [
        {
          "output_type": "execute_result",
          "data": {
            "text/plain": [
              "1"
            ]
          },
          "metadata": {},
          "execution_count": 65
        }
      ]
    },
    {
      "cell_type": "code",
      "metadata": {
        "colab": {
          "base_uri": "https://localhost:8080/"
        },
        "id": "7nCEFfPIp76C",
        "outputId": "6ab75a7e-c480-42fa-d4b5-2e82c5c3d1c3"
      },
      "source": [
        "print(3.14*5**2)"
      ],
      "execution_count": null,
      "outputs": [
        {
          "output_type": "stream",
          "name": "stdout",
          "text": [
            "78.5\n"
          ]
        }
      ]
    },
    {
      "cell_type": "code",
      "metadata": {
        "colab": {
          "base_uri": "https://localhost:8080/"
        },
        "id": "EVHjmnMOp7un",
        "outputId": "7001c463-1af1-4274-dcdd-bc4ef227282e"
      },
      "source": [
        "degisken = 3\n",
        "degisken += 1\n",
        "degisken"
      ],
      "execution_count": null,
      "outputs": [
        {
          "output_type": "execute_result",
          "data": {
            "text/plain": [
              "4"
            ]
          },
          "metadata": {},
          "execution_count": 69
        }
      ]
    },
    {
      "cell_type": "code",
      "metadata": {
        "id": "tmdHpvjap7nC"
      },
      "source": [
        "a = 8\n",
        "b = 2"
      ],
      "execution_count": null,
      "outputs": []
    },
    {
      "cell_type": "code",
      "metadata": {
        "colab": {
          "base_uri": "https://localhost:8080/"
        },
        "id": "mWQoxvbLp7dm",
        "outputId": "8becf27e-b92a-47af-8566-05c702f80185"
      },
      "source": [
        "a += b\n",
        "a"
      ],
      "execution_count": null,
      "outputs": [
        {
          "output_type": "execute_result",
          "data": {
            "text/plain": [
              "12"
            ]
          },
          "metadata": {},
          "execution_count": 73
        }
      ]
    },
    {
      "cell_type": "code",
      "metadata": {
        "id": "IatPGCMg6XKa"
      },
      "source": [
        ""
      ],
      "execution_count": null,
      "outputs": []
    },
    {
      "cell_type": "code",
      "metadata": {
        "id": "sCdKjjRAp7UL"
      },
      "source": [
        ""
      ],
      "execution_count": null,
      "outputs": []
    },
    {
      "cell_type": "code",
      "metadata": {
        "id": "NThFft9z6YEe"
      },
      "source": [
        ""
      ],
      "execution_count": null,
      "outputs": []
    },
    {
      "cell_type": "code",
      "metadata": {
        "colab": {
          "base_uri": "https://localhost:8080/"
        },
        "id": "W7lCsFDg6c0t",
        "outputId": "1ae08af2-4266-4e26-9a49-f400b4745545"
      },
      "source": [
        "a = 3\n",
        "b = 4\n",
        "c = (a**2 + b**2) ** 0.5\n",
        "c"
      ],
      "execution_count": null,
      "outputs": [
        {
          "output_type": "execute_result",
          "data": {
            "text/plain": [
              "5.0"
            ]
          },
          "metadata": {},
          "execution_count": 74
        }
      ]
    },
    {
      "cell_type": "code",
      "metadata": {
        "colab": {
          "base_uri": "https://localhost:8080/"
        },
        "id": "kS5kuTB49IMa",
        "outputId": "5ad5f05e-bcd9-41f3-a31d-6d961b05a10b"
      },
      "source": [
        "print(\"ali\", \"aslı\")\n",
        "print(\"veli\", \"ayşe\")\n",
        "print(\"selvi\", \"baharat\", 44)\n",
        "print(c, False, \"ahmet\", 3.14)"
      ],
      "execution_count": null,
      "outputs": [
        {
          "output_type": "stream",
          "name": "stdout",
          "text": [
            "ali aslı\n",
            "veli ayşe\n",
            "selvi baharat 44\n",
            "5.0 False ahmet 3.14\n"
          ]
        }
      ]
    },
    {
      "cell_type": "code",
      "metadata": {
        "colab": {
          "base_uri": "https://localhost:8080/"
        },
        "id": "R-NEo12j_iNv",
        "outputId": "93513515-7d3d-46fa-e62e-c4ab57cbe652"
      },
      "source": [
        "print(c, False, \"ahmet\", 3.14, sep = \"-\")"
      ],
      "execution_count": null,
      "outputs": [
        {
          "output_type": "stream",
          "name": "stdout",
          "text": [
            "5.0-False-ahmet-3.14\n"
          ]
        }
      ]
    },
    {
      "cell_type": "code",
      "metadata": {
        "colab": {
          "base_uri": "https://localhost:8080/"
        },
        "id": "rX2OrpDJBV-c",
        "outputId": "b53dbcae-b88f-4f57-8231-3ca9a6e3ca86"
      },
      "source": [
        "text1 = \"I bought\"\n",
        "text2 = \"kg. of apple this morning\"\n",
        "amount = 6\n",
        "text3 = text1 + \" \" + str(amount) + \" \" + text2\n",
        "print(text3)"
      ],
      "execution_count": null,
      "outputs": [
        {
          "output_type": "stream",
          "name": "stdout",
          "text": [
            "I bought 6 kg. of apple this morning\n"
          ]
        }
      ]
    }
  ]
}